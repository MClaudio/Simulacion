{
  "nbformat": 4,
  "nbformat_minor": 0,
  "metadata": {
    "colab": {
      "name": "Tausworthe.ipynb",
      "provenance": []
    },
    "kernelspec": {
      "name": "python3",
      "display_name": "Python 3"
    },
    "language_info": {
      "name": "python"
    }
  },
  "cells": [
    {
      "cell_type": "code",
      "metadata": {
        "colab": {
          "base_uri": "https://localhost:8080/"
        },
        "id": "2dAcKeq8gO0_",
        "outputId": "1e96a13b-54f6-4b15-bcf8-85ec655c8f7f"
      },
      "source": [
        "# Claudio Maldonado\n",
        "\n",
        "import numpy as np\n",
        "\"\"\"\n",
        "        Las semillas se definen por r, q y l\n",
        "\n",
        "        Parameters\n",
        "        ----------\n",
        "        r : int\n",
        "                como se define en\n",
        "                B[i] = (B[i−r] +B[i−q]) mod 2 = B[i−r] XOR B[i−q] (0 < r < q)\n",
        "        q : int\n",
        "                como se define en\n",
        "                B[i] = (B[i−r] +B[i−q]) mod 2 = B[i−r] XOR B[i−q] (0 < r < q)\n",
        "        l : int\n",
        "                como se define en\n",
        "                Usa (l-bits en base 2)/2^l y convertir a base 10\n",
        "        \"\"\"\n",
        "class Tausworthe(object):\n",
        "    def __init__(self, length: int = 1, debug: bool = False):\n",
        "        self.r = self.q = self.chunk_len = 0\n",
        "        self.debug = debug\n",
        "        self.length = length\n",
        "\n",
        "    def seed(self, r: int = 3, q: int = 5, chunk_len: int = 4):\n",
        "        self.r = r\n",
        "        self.q = q\n",
        "        self.chunk_len = chunk_len\n",
        "\n",
        "    def convert(self, bits: np.ndarray):\n",
        "        res = 0\n",
        "        for index, bit in enumerate(bits):\n",
        "            res += bit * np.power(2, (len(bits) - index - 1))\n",
        "        return res\n",
        "\n",
        "    def random(self, n_decimal: int = 3):\n",
        "        if self.r == 0 or self.q == 0 or self.chunk_len == 0:\n",
        "            self.seed()\n",
        "        self.length_bit = self.length * self.chunk_len\n",
        "        self.B = np.ones(self.length_bit)\n",
        "        for i in range(self.q, self.length_bit):\n",
        "            new_bit = 1 if self.B[i - self.r] != self.B[i - self.q] else 0\n",
        "            self.B[i] = new_bit\n",
        "        self.B = np.array_split(self.B, self.length)\n",
        "        self.decimal = np.array(\n",
        "            [\n",
        "                round(self.convert(seg) / np.power(2, self.chunk_len), n_decimal)\n",
        "                for seg in self.B\n",
        "            ]\n",
        "        )\n",
        "        return self.decimal\n",
        "\n",
        "tg = Tausworthe(length=10)\n",
        "tg.seed(r=5, q=17, chunk_len=19)\n",
        "res = tg.random()\n",
        "print(res.tolist())\n"
      ],
      "execution_count": 16,
      "outputs": [
        {
          "output_type": "stream",
          "name": "stdout",
          "text": [
            "[1.0, 0.121, 0.951, 0.976, 0.513, 0.279, 0.153, 0.305, 0.29, 0.68]\n"
          ]
        }
      ]
    }
  ]
}